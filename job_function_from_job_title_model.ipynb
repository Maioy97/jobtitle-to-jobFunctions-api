{
  "nbformat": 4,
  "nbformat_minor": 0,
  "metadata": {
    "colab": {
      "name": "job function from job title model",
      "provenance": [],
      "collapsed_sections": [
        "Te3A8e4EmhrH",
        "Oxa4QkCFwXg7",
        "NXu6-n1Wksd2",
        "6t4yV_JVSgdL",
        "Eqr3szfCR-Uu",
        "3shpY-_6Rm7M"
      ],
      "toc_visible": true,
      "machine_shape": "hm"
    },
    "kernelspec": {
      "name": "python3",
      "display_name": "Python 3"
    },
    "accelerator": "GPU"
  },
  "cells": [
    {
      "cell_type": "code",
      "metadata": {
        "id": "tpmz7HHlqK3d",
        "colab_type": "code",
        "colab": {}
      },
      "source": [
        "#http://mlkd.csd.auth.gr/multilabel.html -> http://lpis.csd.auth.gr/publications/tsoumakas-mmd08.pdf   multi lable prediction paper \n",
        "# doesn't seem suitable \n",
        "\n"
      ],
      "execution_count": 0,
      "outputs": []
    },
    {
      "cell_type": "markdown",
      "metadata": {
        "id": "Te3A8e4EmhrH",
        "colab_type": "text"
      },
      "source": [
        "# downloading data from drive "
      ]
    },
    {
      "cell_type": "code",
      "metadata": {
        "id": "cpr193bnuXyK",
        "colab_type": "code",
        "outputId": "82249104-15f5-44b7-fa20-0ec8d51c84e3",
        "colab": {
          "base_uri": "https://localhost:8080/",
          "height": 568
        }
      },
      "source": [
        "from pydrive.auth import GoogleAuth\n",
        "from pydrive.drive import GoogleDrive\n",
        "from google.colab import auth\n",
        "from oauth2client.client import GoogleCredentials\n",
        "# bring the dataset from drive \n",
        "\n",
        "# 1. Authenticate and create the PyDrive client.\n",
        "auth.authenticate_user()\n",
        "gauth = GoogleAuth()\n",
        "gauth.credentials = GoogleCredentials.get_application_default()\n",
        "drive = GoogleDrive(gauth)\n",
        "\n",
        "# downloading dataset to colab \n",
        "# https://drive.google.com/open?id=1vQpharfx4IgnKDfejdYmFjkUoa_HtAYI\n",
        "f_ = drive.CreateFile({'id': \"1vQpharfx4IgnKDfejdYmFjkUoa_HtAYI\"})\n",
        "fname = \"jobs_data_preprocced.csv\"\n",
        "f_.GetContentFile(fname)\n",
        "\n",
        "# https://drive.google.com/open?id=1TM5UKcf-YZVkxa29ZDaR8w_BqK3gsg75\n",
        "f_ = drive.CreateFile({'id': \"1TM5UKcf-YZVkxa29ZDaR8w_BqK3gsg75\"})\n",
        "fname = \"wiki-news-300d-1M-subword.vec.zip\"\n",
        "f_.GetContentFile(fname)\n",
        "\n",
        "#in case you need to download multiple files from drive to colab \n",
        "\n",
        "file_list = drive.ListFile(\n",
        "    {'q': \"'1naB_1sDhfr0YzClRoaYQLQWu5xFo1H-s' in parents\"}).GetList()\n",
        "\n",
        "for f in file_list:\n",
        "  # 3. Create & download by id.\n",
        "  print('title: %s, id: %s' % (f['title'], f['id']))\n",
        "  fname = f['title']\n",
        "  print('downloading to {}'.format(fname))\n",
        "  f_ = drive.CreateFile({'id': f['id']})\n",
        "  print( f['id'])\n",
        "  f_.GetContentFile(fname)\n"
      ],
      "execution_count": 2,
      "outputs": [
        {
          "output_type": "stream",
          "text": [
            "title: model_1.h5, id: 16UCjzIeWva_dSgGyAMKXVz6w-JsliQsP\n",
            "downloading to model_1.h5\n",
            "16UCjzIeWva_dSgGyAMKXVz6w-JsliQsP\n",
            "title: job_functions_dict.npy, id: 1gWOHnpU_vAsjIulIyT-tKyrlwkyAMgLF\n",
            "downloading to job_functions_dict.npy\n",
            "1gWOHnpU_vAsjIulIyT-tKyrlwkyAMgLF\n",
            "title: rev_jobFun_dict.npy, id: 1Hm8YPaBHxlk60-NfDw27PTYEhS7SovCM\n",
            "downloading to rev_jobFun_dict.npy\n",
            "1Hm8YPaBHxlk60-NfDw27PTYEhS7SovCM\n",
            "title: Y.npy, id: 1OxATFCjFi6xmr9PxdjrpO4MgflqQ0yhn\n",
            "downloading to Y.npy\n",
            "1OxATFCjFi6xmr9PxdjrpO4MgflqQ0yhn\n",
            "title: X.npy, id: 1eGblO9v39INaGazViwr3ZCE59qPGrhDL\n",
            "downloading to X.npy\n",
            "1eGblO9v39INaGazViwr3ZCE59qPGrhDL\n",
            "title: Y.npy, id: 15POUts3QI1XziB8YVEh9lA7FPtv0_DCZ\n",
            "downloading to Y.npy\n",
            "15POUts3QI1XziB8YVEh9lA7FPtv0_DCZ\n",
            "title: X.npy, id: 1cnEzuDDh30VG9KK5I_qR1ArMiAC3jhIo\n",
            "downloading to X.npy\n",
            "1cnEzuDDh30VG9KK5I_qR1ArMiAC3jhIo\n",
            "title: Y.npy, id: 1FwtPXDOstSBcm1IxTUqyeaW9eV6Z1AJX\n",
            "downloading to Y.npy\n",
            "1FwtPXDOstSBcm1IxTUqyeaW9eV6Z1AJX\n",
            "title: X.npy, id: 1eh-WXUQMDx0mPoGV2pXv4oDS9wj1kmYj\n",
            "downloading to X.npy\n",
            "1eh-WXUQMDx0mPoGV2pXv4oDS9wj1kmYj\n",
            "title: X.npy, id: 1X21IC3bDyPwrWyox-BXKJCpKm7Yw55uC\n",
            "downloading to X.npy\n",
            "1X21IC3bDyPwrWyox-BXKJCpKm7Yw55uC\n"
          ],
          "name": "stdout"
        }
      ]
    },
    {
      "cell_type": "markdown",
      "metadata": {
        "id": "Oxa4QkCFwXg7",
        "colab_type": "text"
      },
      "source": [
        "# Data preproccesing and embedding \n"
      ]
    },
    {
      "cell_type": "code",
      "metadata": {
        "id": "zzDoB0HLuTn1",
        "colab_type": "code",
        "colab": {}
      },
      "source": [
        "import pandas as pd \n",
        "from ast import literal_eval\n",
        "\n",
        "def get_uniques(job_dataframe):\n",
        "  jobtitles = job_dataframe['title'].tolist()\n",
        "  job_functions = job_dataframe['jobFunction'].tolist()\n",
        "\n",
        "  listjobfunc = job_dataframe['jobFunction'].apply(pd.Series).stack()\n",
        "  print(\"get uniques : job_functions = \" , len(job_functions))\n",
        "  uniques = listjobfunc.unique()\n",
        "  indexes = list(range(len(uniques)))\n",
        "  di_job_functions = dict(zip(uniques, indexes))\n",
        "  rev_dic_jobFun = dict(zip(indexes,uniques))\n",
        "\n",
        "  print (len(di_job_functions))\n",
        "  return jobtitles , job_functions , di_job_functions , rev_dic_jobFun\n",
        "\n",
        "#----------\n",
        "def single_jobfun_toNum(job_functions_dic , single_jobfunctions):\n",
        "  lablejobfunc = []\n",
        "  \n",
        "  for function in single_jobfunctions:\n",
        "    lablejobfunc.append (job_functions_dic[function])\n",
        "\n",
        "  return lablejobfunc  \n",
        "\n",
        "#-----------\n",
        "def dataset_funtoNum(job_functions_dic, job_functions_list):\n",
        "  labeled_ds = []\n",
        "  print(type(job_functions_list), len(job_functions_list))\n",
        "  for i in range( len(job_functions_list)) :\n",
        "   sublist =single_jobfun_toNum(job_functions_dic , job_functions_list[i])\n",
        "   \n",
        "   labeled_ds.append(sublist)\n",
        "  return labeled_ds\n",
        "\n",
        "#-----------\n",
        "\n"
      ],
      "execution_count": 0,
      "outputs": []
    },
    {
      "cell_type": "code",
      "metadata": {
        "id": "Hh-lNaIhMlCI",
        "colab_type": "code",
        "colab": {}
      },
      "source": [
        "# no longer needed \n",
        "from numpy import save\n",
        "df  = pd.read_csv('jobs_data.csv')\n",
        "# job functions colomn from strings to lists  \n",
        "df.loc[:,'jobFunction'] = df.loc[:,'jobFunction'].apply(lambda x : literal_eval(x))\n",
        "job_titles , job_funs ,job_functions_dict , rev_jobFun_dict= get_uniques(df)\n",
        "save('job_functions_dict.npy',job_functions_dict)\n",
        "save('rev_jobFun_dict.npy',rev_jobFun_dict)\n",
        "#----------\n",
        "\n",
        "\n",
        "print(job_titles[0])\n",
        "#print(job_funs)\n",
        "print(job_funs)\n",
        "listO_funNumlists =  dataset_funtoNum(job_functions_dict , job_funs)\n",
        "print(listO_funNumlists)"
      ],
      "execution_count": 0,
      "outputs": []
    },
    {
      "cell_type": "code",
      "metadata": {
        "id": "uwR_svBNb9dA",
        "colab_type": "code",
        "outputId": "a32237c1-fe1a-416c-e0e1-812d4beaada5",
        "colab": {
          "base_uri": "https://localhost:8080/",
          "height": 35
        }
      },
      "source": [
        "print(job_titles[6800])"
      ],
      "execution_count": 0,
      "outputs": [
        {
          "output_type": "stream",
          "text": [
            "Property Sales Consultant - Real Estate\n"
          ],
          "name": "stdout"
        }
      ]
    },
    {
      "cell_type": "code",
      "metadata": {
        "id": "s5JsziPHax5d",
        "colab_type": "code",
        "colab": {}
      },
      "source": [
        "import numpy as np\n",
        "# preprocessing : bellow arabic job titles are translated to english\n",
        "def character_removal(text):\n",
        "  charlist = \"|&()[],\\'\\\"-=+@/\\\\\"\n",
        "  for c in charlist : \n",
        "    text = text.replace(c,' ')\n",
        "  return text  \n",
        "\n",
        "def list_char_removal(X):\n",
        "  for i in range(len(X)):\n",
        "    X[i] = character_removal(X[i])\n",
        "  \n",
        "  return X  \n",
        "\n",
        "# embedding\n",
        "# word embedding model : https://fasttext.cc/docs/en/english-vectors.html\n",
        "import io\n",
        "\n",
        "def load_vectors(fname):\n",
        "    fin = io.open(fname, 'r', encoding='utf-8', newline='\\n', errors='ignore')\n",
        "    n, d = map(int, fin.readline().split())\n",
        "    data = {}\n",
        "    for line in fin:\n",
        "        tokens = line.rstrip().split(' ')\n",
        "        data[tokens[0]] = map(float, tokens[1:])\n",
        "    return data\n",
        "\n",
        "# embed_dict values are map object that can only be used once \n",
        "# in case a word appears twice in the dataser , the second occurence won't get a vector\n",
        "# that's why each time I use the dict I add the vector to a backup dict \n",
        "def embed_title(embedding_dict , job_title,rownum,backup_dict):\n",
        "  #backup_dict = {}\n",
        "  title_vectors =np.zeros(shape=(10,300))\n",
        "  if job_title is not None: \n",
        "    title_parts = job_title.split()\n",
        "    print(\"job_title parts :\",title_parts)\n",
        "    for i , word  in enumerate(title_parts) :\n",
        "      try:\n",
        "        temp = list(embedding_dict[word])\n",
        "        if temp == []:\n",
        "          try :\n",
        "            # value used before , check backup\n",
        "            temp = backup_dict[word]\n",
        "            title_vectors[i] = temp\n",
        "          except Exception as e:\n",
        "              # not used but not in the dictionary ,will stay as a zero vector \n",
        "              print (i,\" skipped : \",word ,\" Reason:\" ,e )\n",
        "        else: \n",
        "          # first usage , add to backup \n",
        "          backup_dict[word] = temp \n",
        "          title_vectors[i] = temp \n",
        "      except Exception as e:\n",
        "        print(\"no embedding for : \",e)    \n",
        "   \n",
        "  else: \n",
        "    print(rownum,\"title is null\", job_title)   \n",
        "  return title_vectors , backup_dict\n",
        "  #figure out English word embedding \n",
        "  \n",
        "# given the list of job function numbers it gives a \n",
        "def embed_func_row(row_functionlist , vectorlen):\n",
        "  vector = np.zeros(vectorlen)\n",
        "  #print(\"embed func:\",row_functionlist)\n",
        "  for fun_number in row_functionlist: \n",
        "    #print(\"embed func:\" ,fun_number)\n",
        "    vector [fun_number] = 1 \n",
        "  return vector\n",
        "\n",
        "# datasetX -> jobtitles    datasetY -> job functions turned to numbers \n",
        "def embed_dataset(datasetX ,datasetY,embed_dict ,fundict_len=38):\n",
        "  length = len(datasetX)\n",
        "  backup_dict = {}\n",
        "  # so that each row is (10,300) and has as many rows and the dataset 10870\n",
        "  arrX =np.zeros(shape=(length,10,300)) \n",
        "  #  38 unique job functions ; vector is 38 0s ,1s at jobfunctions indexes \n",
        "  arrY =np.zeros(shape=(length,1,fundict_len))\n",
        "  for i in range (length):\n",
        "    arrX[i],backup_dict = embed_title(embed_dict,datasetX[i],i,backup_dict)\n",
        "    arrY[i] = embed_func_row(datasetY[i], fundict_len)\n",
        "\n",
        "  return arrX , arrY\n",
        "\n",
        "#def embid_prepredic(job_fun_1D , job_title, jobfun_dict):\n",
        "#  fun_nums = single_jobfun_toNum(jobfun_dict , job_fun_1D)"
      ],
      "execution_count": 0,
      "outputs": []
    },
    {
      "cell_type": "code",
      "metadata": {
        "id": "wuSDPJs0hYi1",
        "colab_type": "code",
        "outputId": "d1fe0341-2196-4fb8-97bd-841d46b05ff7",
        "colab": {
          "base_uri": "https://localhost:8080/",
          "height": 54
        }
      },
      "source": [
        "vectorlen = len(job_functions_dict)\n",
        "vector = embed_func_row(listO_funNumlists[0] , vectorlen)\n",
        "print (vector) "
      ],
      "execution_count": 0,
      "outputs": [
        {
          "output_type": "stream",
          "text": [
            "[1. 1. 0. 0. 0. 0. 0. 0. 0. 0. 0. 0. 0. 0. 0. 0. 0. 0. 0. 0. 0. 0. 0. 0.\n",
            " 0. 0. 0. 0. 0. 0. 0. 0. 0. 0. 0. 0. 0. 0.]\n"
          ],
          "name": "stdout"
        }
      ]
    },
    {
      "cell_type": "markdown",
      "metadata": {
        "id": "NXu6-n1Wksd2",
        "colab_type": "text"
      },
      "source": [
        "# Editing arabic titles "
      ]
    },
    {
      "cell_type": "code",
      "metadata": {
        "id": "aE7GsS3MkrDC",
        "colab_type": "code",
        "colab": {}
      },
      "source": [
        "letterstodetect = \"ابتثجحخدذرزسشصضطظعغفقكلمنهويىلالآؤءئلأإألإة\"\n",
        "# figure out rows with arabic job titles \n",
        "\n",
        "#source : https://www.oreilly.com/library/view/python-cookbook/0596001673/ch03s07.html\n",
        "def containsAny(str, set):\n",
        "    \"\"\" Check whether sequence str contains ANY of the items in set. \"\"\"\n",
        "    return 1 in [c in str for c in set]\n",
        "  \n",
        "# function that takes the list of rows , loops over then and takes user input to replace them \n",
        "def list_arabic_titles_indexes(setofletters , stringlist): \n",
        "   stringindexlist =[]\n",
        "   for i in range(len(stringlist)): \n",
        "     if containsAny(stringlist[i] , setofletters):\n",
        "       stringindexlist.append(i)\n",
        "   return stringindexlist    \n",
        "\n",
        "\n",
        "def replace_arabic_titles  (stringindexlist , stringlist):\n",
        "  for index in stringindexlist :\n",
        "    print (\"string to be replaced :   \", stringlist[index])\n",
        "    newstring = input(\"replace string with :  \")\n",
        "    stringlist[index] = newstring\n",
        "  return stringlist  "
      ],
      "execution_count": 0,
      "outputs": []
    },
    {
      "cell_type": "code",
      "metadata": {
        "id": "aJEA5gDFJ1-c",
        "colab_type": "code",
        "outputId": "9d86f805-b73a-4568-e7de-0a10371860ea",
        "colab": {
          "base_uri": "https://localhost:8080/",
          "height": 1000
        }
      },
      "source": [
        "letterstodetect = \"ابتثجحخدذرزسشصضطظعغفقكلمنهويىلالآؤءئلأإألإة\"\n",
        "\n",
        "index_list = list_arabic_titles_indexes(letterstodetect,job_titles)\n",
        "print(index_list)\n",
        "job_titles = replace_arabic_titles  (index_list , job_titles)"
      ],
      "execution_count": 0,
      "outputs": [
        {
          "output_type": "stream",
          "text": [
            "[136, 230, 551, 755, 1282, 1297, 1421, 1442, 1467, 1668, 1758, 1996, 2290, 3179, 3530, 3556, 4124, 4507, 4516, 4826, 4865, 5159, 5736, 6628, 7055, 7510, 7607, 8514, 9094, 9292, 9303, 9804, 10171, 10569, 10629, 10859]\n",
            "string to be replaced :    معلم لغة عربية\n",
            "replace string with :  Arabic teacher\n",
            "string to be replaced :    Dermatologist - دكتور جلدية\n",
            "replace string with :  Dermatologist\n",
            "string to be replaced :    Concrete Block Plant Operator - مشغل محطة طوب اسمنتي - العلمين\n",
            "replace string with :  Concrete Block Plant Operator\n",
            "string to be replaced :    Junior Administration / Facilities - مسئول إداري\n",
            "replace string with :  Junior Administration / Facilities\n",
            "string to be replaced :    Legal Affairs Officer - مسئول الشئون القانونية\n",
            "replace string with :  Legal Affairs Officer\n",
            "string to be replaced :    Legal Affairs Officer - مسئول الشئون القانونية\n",
            "replace string with :  Legal Affairs Officer\n",
            "string to be replaced :    Sales Representative - مندوب مبيعات\n",
            "replace string with :  Sales Representative\n",
            "string to be replaced :    Junior Administration / Facilities - مسئول إداري\n",
            "replace string with :  Junior Administration / Facilities\n",
            "string to be replaced :    Advertising Production Manager - مدير انتاج في مجال الدعاية والاعلان\n",
            "replace string with :  Advertising Production Manager\n",
            "string to be replaced :    موظفة نشر و سوشيال ميديا اونلاين\n",
            "replace string with :  Online Publishing and social Media Specialist\n",
            "string to be replaced :    Junior Administration / Facilities - مسئول إداري\n",
            "replace string with :  Junior Administration / Facilities\n",
            "string to be replaced :    مندوب مبيعات - خارجي\n",
            "replace string with :  Sales Representative - Export\n",
            "string to be replaced :    مندوب مبيعات - خارجي\n",
            "replace string with :  Sales Representative - Export\n",
            "string to be replaced :    Legal Affairs Officer - مسئول الشئون القانونية\n",
            "replace string with :  Legal Affairs Officer\n",
            "string to be replaced :    Advertising Production Manager - مدير انتاج في مجال الدعاية والاعلان\n",
            "replace string with :  Advertising Production Manager\n",
            "string to be replaced :    Warehouse Manager -مدير مخازن\n",
            "replace string with :  Warehouse Manager\n",
            "string to be replaced :    Junior Administration / Facilities - مسئول إداري\n",
            "replace string with :  Junior Administration / Facilities\n",
            "string to be replaced :    مندوب مبيعات - خارجي\n",
            "replace string with :  Sales Representative - Export\n",
            "string to be replaced :    Construction Supervisor (Concrete - Finishing) / مشرف تنفيذ (خراسانات - تشطيبات)\n",
            "replace string with :  Construction Supervisor (Concrete - Finishing)\n",
            "string to be replaced :    Digital Marketing Specialist - أخصائي تسويق إلكتروني\n",
            "replace string with :  Digital Marketing Specialist\n",
            "string to be replaced :    معلم لغة عربية\n",
            "replace string with :  Arabic Teacher\n",
            "string to be replaced :    Storekeeper - امين مخزن\n",
            "replace string with :  Storekeeper\n",
            "string to be replaced :    Junior Administration / Facilities - مسئول إداري\n",
            "replace string with :  Junior Administration / Facilities\n",
            "string to be replaced :    Security Manager - مدير امن\n",
            "replace string with :  Security Manager\n",
            "string to be replaced :    موظفة نشر و سوشيال ميديا اونلاين\n",
            "replace string with :  Online Publishing and social Media Specialist\n",
            "string to be replaced :    Security Manager - مدير امن\n",
            "replace string with :  Security Manager\n",
            "string to be replaced :    مندوب مبيعات - خارجي\n",
            "replace string with :  Sales Representative - Export\n",
            "string to be replaced :    موظفة نشر و سوشيال ميديا اونلاين\n",
            "replace string with :  Online Publishing and social Media Specialist\n",
            "string to be replaced :    معلم لغة عربية\n",
            "replace string with :  Arabic TEacher\n",
            "string to be replaced :    Sales Representative - مندوب مبيعات\n",
            "replace string with :  Sales Representative\n",
            "string to be replaced :    موظفة نشر و سوشيال ميديا اونلاين\n",
            "replace string with :  Online Publishing and social Media Specialist\n",
            "string to be replaced :    Arabic KG Teacher - مُدرسة لغة عربية رياض أطفال\n",
            "replace string with :  Arabic KG Teacher\n",
            "string to be replaced :    موظفة نشر و سوشيال ميديا اونلاين\n",
            "replace string with :  Online Publishing and social Media Specialist\n",
            "string to be replaced :    Storekeeper - امين مخزن\n",
            "replace string with :  Storekeeper\n",
            "string to be replaced :    مندوب مبيعات - خارجي\n",
            "replace string with :  Sales Representative - Export\n",
            "string to be replaced :    Arabic KG Teacher - مُدرسة لغة عربية رياض أطفال\n",
            "replace string with :  Arabic KG Teacher\n"
          ],
          "name": "stdout"
        }
      ]
    },
    {
      "cell_type": "code",
      "metadata": {
        "id": "WSyIXcCMdtMa",
        "colab_type": "code",
        "outputId": "c5b67579-e612-43b0-8e44-604c1674f634",
        "colab": {
          "base_uri": "https://localhost:8080/",
          "height": 54
        }
      },
      "source": [
        "print(job_titles[551])\n",
        "print(listO_funNumlists[551])"
      ],
      "execution_count": 0,
      "outputs": [
        {
          "output_type": "stream",
          "text": [
            "Concrete Block Plant Operator\n",
            "[23]\n"
          ],
          "name": "stdout"
        }
      ]
    },
    {
      "cell_type": "code",
      "metadata": {
        "id": "bSrbujnNQRxC",
        "colab_type": "code",
        "colab": {}
      },
      "source": [
        "\n",
        "newdata = pd.DataFrame({\"title\":job_titles , \n",
        "                       \"jobFunction\":listO_funNumlists})\n",
        "newdata.to_csv(\"jobs_data_preprocced.csv\")    \n"
      ],
      "execution_count": 0,
      "outputs": []
    },
    {
      "cell_type": "code",
      "metadata": {
        "id": "7bh8OBUyeNNj",
        "colab_type": "code",
        "colab": {}
      },
      "source": [
        "!pip install -U -q PyDrive\n",
        "import os\n",
        "from pydrive.auth import GoogleAuth\n",
        "from pydrive.drive import GoogleDrive\n",
        "from google.colab import auth\n",
        "from oauth2client.client import GoogleCredentials\n",
        "\n",
        "\n",
        "#model.save(\".h5\")\n",
        "# 1. Authenticate and create the PyDrive client.\n",
        "auth.authenticate_user()\n",
        "gauth = GoogleAuth()\n",
        "gauth.credentials = GoogleCredentials.get_application_default()\n",
        "drive = GoogleDrive(gauth)\n",
        "fid = '1kEMBmMLxO64LOd6jTUlgwiMqVbV2gBkE'\n",
        "f = drive.CreateFile({\"parents\": [{\"kind\": \"drive#fileLink\", \"id\": fid}]})\n",
        "f.SetContentFile('jobs_data_preprocced.csv')\n",
        "f.Upload()"
      ],
      "execution_count": 0,
      "outputs": []
    },
    {
      "cell_type": "code",
      "metadata": {
        "id": "joSIHz1ZmVh8",
        "colab_type": "code",
        "colab": {}
      },
      "source": [
        "print (df)\n",
        "print(job_titles)\n",
        "print(X[500][2])"
      ],
      "execution_count": 0,
      "outputs": []
    },
    {
      "cell_type": "markdown",
      "metadata": {
        "id": "Eqr3szfCR-Uu",
        "colab_type": "text"
      },
      "source": [
        "# Model \n"
      ]
    },
    {
      "cell_type": "code",
      "metadata": {
        "id": "ZtafkZ82LFrK",
        "colab_type": "code",
        "colab": {}
      },
      "source": [
        "# idea 1 : 1D CNN s ,word embedding for inputs\n",
        "# highest 3 or less confidences above threshold where job functions are treated like 38 classes \n",
        "import keras\n",
        "import random\n",
        "from keras.models import Sequential\n",
        "from keras.layers import Conv1D ,MaxPooling1D , Embedding,Flatten, Dropout , Dense , BatchNormalization\n",
        "from keras.engine.input_layer import Input\n",
        "from sklearn.metrics import accuracy_score, classification_report , confusion_matrix\n",
        "\n",
        "def create_model ():\n",
        "  _filtersize = 300\n",
        "  _fltrs = [  512,  512, 512, 1024, 1024, 512,\n",
        "              400, 300,  200, 100, 64, 64, 64]\n",
        "  _kernal_size = 2 # two word vectors at a time \n",
        "  _pool_size = 2\n",
        "  _Learning_rate = .0005\n",
        "  _input_shape = (10,300)\n",
        "\n",
        "  keras.backend.clear_session()\n",
        "  model = Sequential()\n",
        "  model.add(Conv1D(filters=_fltrs[0], kernel_size=_kernal_size, strides=1,\n",
        "                   activation=\"relu\",input_shape=_input_shape ))\n",
        "  model.add(Conv1D(filters=_fltrs[1], kernel_size=_kernal_size, strides=1,  activation=\"relu\"))\n",
        "  model.add(BatchNormalization())\n",
        "  model.add(MaxPooling1D(pool_size=_pool_size, padding='same'))\n",
        "  model.add(Conv1D(filters=_fltrs[2], kernel_size=_kernal_size, strides=1,  activation=\"relu\"))\n",
        "  model.add(Conv1D(filters=_fltrs[3], kernel_size=_kernal_size, strides=1,  activation=\"relu\"))\n",
        "  #model.add(Conv1D(filters=_fltrs[5], kernel_size=_kernal_size, strides=1,  activation=\"relu\"))\n",
        "  model.add(Dropout(.2))\n",
        "  model.add(Flatten())\n",
        "  model.add(Dense(38, activation = 'sigmoid'))\n",
        "  opt = keras.optimizers.Adam(lr=_Learning_rate, beta_1=0.9,\n",
        "                              beta_2=0.999, epsilon=None, decay=0.0, amsgrad=False);\n",
        "\n",
        "  model.compile(loss='binary_crossentropy',\n",
        "      optimizer=opt,\n",
        "      metrics=['accuracy'])\n",
        "  \n",
        "  model.build(_input_shape)\n",
        "  model.summary()\n",
        "  return model   \n",
        "  \n",
        "def train_model(model , X_train , y_train):\n",
        "  _batch_size = 64\n",
        "  _epochs = 10\n",
        "  Model_History = model.fit(X_train, y_train,\n",
        "                              batch_size=_batch_size,\n",
        "                              epochs=_epochs, validation_split=0.2,\n",
        "                              shuffle=True)\n",
        "  \n",
        "  model.save(\"model_2.h5\")\n",
        "  return Model_History\n",
        "\n",
        "def max_indexes(row,threshold=.5):\n",
        "  print(row)\n",
        "  maxindexs = [] \n",
        "  maxindexs.append(np.argmax(row,axis=0))\n",
        "  row[maxindexs[0]] = 0\n",
        "  for i in range(1,3):\n",
        "    temp = np.argmax(row,axis=0)\n",
        "    print(temp)\n",
        "    temp_confidence = row[temp]\n",
        "    if not  temp_confidence >= threshold:\n",
        "      return maxindexs.sort()\n",
        "    else :\n",
        "      maxindexs.append(temp)\n",
        "      row[maxindexs[0]] = 0\n",
        "  print (maxindexes)    \n",
        "  return maxindexs.sort()\n",
        "\n",
        "def bulk_max_indexes(results,threshold=.5): \n",
        "  bulk_fun_nums = [] \n",
        "  for row in results:\n",
        "    indexes =  max_indexes(row,threshold)\n",
        "    print(indexes)\n",
        "    temp = []\n",
        "    for i in range(38):\n",
        "      if i in indexes : \n",
        "        temp[i] = 1\n",
        "      else : \n",
        "        temp[i] = 0  \n",
        "\n",
        "  return  bulk_fun_nums\n",
        "\n",
        "def test_model (model , X_test , y_test,labels):\n",
        "  predicted_y = model.predict(X_test)\n",
        "  scores = model.evaluate(X_test,y_test)\n",
        "  print (\"test loss= \",scores[0],\"test accuracy= \",scores[1])\n",
        "  '''acc = accuracy_score(bulk_max_indexes(y_test,1), bulk_max_indexes(predicted_y))\n",
        "  report = classification_report(bulk_max_indexes(y_test,1), bulk_max_indexes(predicted_y) ,labels)\n",
        "  cm = confusion_matrix(bulk_max_indexes(y_test,1), bulk_max_indexes(predicted_y),labels)'''\n",
        "  return scores #cm, acc, report"
      ],
      "execution_count": 0,
      "outputs": []
    },
    {
      "cell_type": "code",
      "metadata": {
        "id": "xbTKro7O004C",
        "colab_type": "code",
        "colab": {}
      },
      "source": [
        "import matplotlib.pyplot as plt\n",
        "\n",
        "# https://machinelearningmastery.com/display-deep-learning-model-training-history-in-keras/\n",
        "def plot_model_history(history):\n",
        "  # summarize history for accuracy\n",
        "  plt.plot(history.history['acc'])\n",
        "  plt.plot(history.history['val_acc'])\n",
        "  plt.title('model accuracy')\n",
        "  plt.ylabel('accuracy')\n",
        "  plt.xlabel('epoch')\n",
        "  plt.legend(['train', 'validation'], loc='upper left')\n",
        "  plt.show()\n",
        "  # summarize history for loss\n",
        "  plt.plot(history.history['loss'])\n",
        "  plt.plot(history.history['val_loss'])\n",
        "  plt.title('model loss')\n",
        "  plt.ylabel('loss')\n",
        "  plt.xlabel('epoch')\n",
        "  plt.legend(['train', 'validation'], loc='upper left')\n",
        "  plt.show()"
      ],
      "execution_count": 0,
      "outputs": []
    },
    {
      "cell_type": "markdown",
      "metadata": {
        "id": "6t4yV_JVSgdL",
        "colab_type": "text"
      },
      "source": [
        "# Function calling using the new CSV \n"
      ]
    },
    {
      "cell_type": "code",
      "metadata": {
        "id": "UQOwi6GlSgtO",
        "colab_type": "code",
        "colab": {}
      },
      "source": [
        "!unzip wiki-news-300d-1M-subword.vec.zip\n",
        "\n",
        "df  = pd.read_csv('jobs_data_preprocced.csv')\n",
        "# job functions colomn from strings to lists\n",
        "df.loc[:,'jobFunction'] = df.loc[:,'jobFunction'].apply(lambda x : literal_eval(x))\n",
        "job_titles, job_funs,job_functions_dict , rev_dictFun = get_uniques(df)\n",
        "\n",
        "dictlength = len(job_functions_dict)\n",
        "job_titles =  list_char_removal(job_titles)\n",
        "#print(\"unwanted charecters removed\")\n",
        "\n",
        "# call embedding functions\n",
        "embed_dict = load_vectors(\"wiki-news-300d-1M-subword.vec\")\n",
        "print(\"dictionary loaded\")\n",
        "X , Y = embed_dataset(job_titles ,job_funs ,embed_dict, dictlength)\n",
        "print(X[0],Y[0])\n",
        "# cleared everytime because of the dictionary structer \n",
        "embed_dict.clear()\n",
        "from numpy import save  \n",
        "save(\"X.npy\",X)\n",
        "save(\"Y.npy\",Y)\n",
        "save(\"rev_dictFun.npy\",rev_dictFun)\n"
      ],
      "execution_count": 0,
      "outputs": []
    },
    {
      "cell_type": "code",
      "metadata": {
        "id": "EYqV6KA6Q0Qb",
        "colab_type": "code",
        "colab": {
          "base_uri": "https://localhost:8080/",
          "height": 35
        },
        "outputId": "bf39d4b1-c422-41cf-b19b-c020ea7d1820"
      },
      "source": [
        "from numpy import load \n",
        "#X = load(\"X.npy\")\n",
        "#Y = load(\"Y.npy\")\n",
        "#print(X[9900])\n",
        "print(X.shape)\n",
        "#print(Y[9900])\n",
        "#Y = Y.reshape ((len(Y), 38)) \n",
        "#print(Y[9900])"
      ],
      "execution_count": 25,
      "outputs": [
        {
          "output_type": "stream",
          "text": [
            "(10870, 10, 300)\n"
          ],
          "name": "stdout"
        }
      ]
    },
    {
      "cell_type": "code",
      "metadata": {
        "id": "Ns3B5O-H5qlY",
        "colab_type": "code",
        "outputId": "185107d6-d5e7-4c27-edc4-3d37da75340c",
        "colab": {
          "base_uri": "https://localhost:8080/",
          "height": 1000
        }
      },
      "source": [
        "from sklearn.model_selection import train_test_split\n",
        "from numpy import save  \n",
        "from numpy import load \n",
        "\n",
        "#X = load(\"X.npy\")\n",
        "#Y = load(\"Y.npy\")\n",
        "#print(X.shape)\n",
        "#Y = Y.reshape ((len(Y), 38))\n",
        "\n",
        "X_train , X_test , Y_train , Y_test = train_test_split(X,Y , test_size = 0.2)\n",
        "\n",
        "model = create_model()\n",
        "Model_History = train_model(model , X_train , Y_train)\n",
        "plot_model_history(Model_History)\n",
        "\n",
        "   "
      ],
      "execution_count": 36,
      "outputs": [
        {
          "output_type": "stream",
          "text": [
            "Model: \"sequential_1\"\n",
            "_________________________________________________________________\n",
            "Layer (type)                 Output Shape              Param #   \n",
            "=================================================================\n",
            "conv1d_1 (Conv1D)            (None, 9, 512)            307712    \n",
            "_________________________________________________________________\n",
            "conv1d_2 (Conv1D)            (None, 8, 512)            524800    \n",
            "_________________________________________________________________\n",
            "batch_normalization_1 (Batch (None, 8, 512)            2048      \n",
            "_________________________________________________________________\n",
            "max_pooling1d_1 (MaxPooling1 (None, 4, 512)            0         \n",
            "_________________________________________________________________\n",
            "conv1d_3 (Conv1D)            (None, 3, 512)            524800    \n",
            "_________________________________________________________________\n",
            "conv1d_4 (Conv1D)            (None, 2, 1024)           1049600   \n",
            "_________________________________________________________________\n",
            "dropout_1 (Dropout)          (None, 2, 1024)           0         \n",
            "_________________________________________________________________\n",
            "flatten_1 (Flatten)          (None, 2048)              0         \n",
            "_________________________________________________________________\n",
            "dense_1 (Dense)              (None, 38)                77862     \n",
            "=================================================================\n",
            "Total params: 2,486,822\n",
            "Trainable params: 2,485,798\n",
            "Non-trainable params: 1,024\n",
            "_________________________________________________________________\n",
            "Train on 6956 samples, validate on 1740 samples\n",
            "Epoch 1/10\n",
            "6956/6956 [==============================] - 2s 225us/step - loss: 0.1357 - acc: 0.9600 - val_loss: 0.0850 - val_acc: 0.9733\n",
            "Epoch 2/10\n",
            "6956/6956 [==============================] - 1s 142us/step - loss: 0.0639 - acc: 0.9795 - val_loss: 0.0608 - val_acc: 0.9804\n",
            "Epoch 3/10\n",
            "6956/6956 [==============================] - 1s 140us/step - loss: 0.0468 - acc: 0.9844 - val_loss: 0.0551 - val_acc: 0.9815\n",
            "Epoch 4/10\n",
            "6956/6956 [==============================] - 1s 141us/step - loss: 0.0383 - acc: 0.9872 - val_loss: 0.0525 - val_acc: 0.9834\n",
            "Epoch 5/10\n",
            "6956/6956 [==============================] - 1s 142us/step - loss: 0.0326 - acc: 0.9889 - val_loss: 0.0483 - val_acc: 0.9844\n",
            "Epoch 6/10\n",
            "6956/6956 [==============================] - 1s 139us/step - loss: 0.0291 - acc: 0.9901 - val_loss: 0.0536 - val_acc: 0.9835\n",
            "Epoch 7/10\n",
            "6956/6956 [==============================] - 1s 138us/step - loss: 0.0259 - acc: 0.9912 - val_loss: 0.0476 - val_acc: 0.9863\n",
            "Epoch 8/10\n",
            "6956/6956 [==============================] - 1s 140us/step - loss: 0.0237 - acc: 0.9917 - val_loss: 0.0486 - val_acc: 0.9864\n",
            "Epoch 9/10\n",
            "6956/6956 [==============================] - 1s 137us/step - loss: 0.0217 - acc: 0.9924 - val_loss: 0.0525 - val_acc: 0.9856\n",
            "Epoch 10/10\n",
            "6956/6956 [==============================] - 1s 139us/step - loss: 0.0205 - acc: 0.9929 - val_loss: 0.0485 - val_acc: 0.9867\n"
          ],
          "name": "stdout"
        },
        {
          "output_type": "display_data",
          "data": {
            "image/png": "[encoded data removed]",
            "text/plain": [
              "<Figure size 432x288 with 1 Axes>"
            ]
          },
          "metadata": {
            "tags": []
          }
        },
        {
          "output_type": "display_data",
          "data": {
            "image/png": "[encoded data removed]",
            "text/plain": [
              "<Figure size 432x288 with 1 Axes>"
            ]
          },
          "metadata": {
            "tags": []
          }
        }
      ]
    },
    {
      "cell_type": "code",
      "metadata": {
        "id": "Z1H3AyCumjGA",
        "colab_type": "code",
        "outputId": "d006252f-85e5-4892-9af7-f014e3fe3938",
        "colab": {
          "base_uri": "https://localhost:8080/",
          "height": 508
        }
      },
      "source": [
        "if model is None: \n",
        "  model = keras.models.load(\"model_2.h5\")  \n",
        "'''array = np.zeros(shape=(1,10,300))\n",
        "array = X_test[7]\n",
        "print(X_test[7])\n",
        "array = array.reshape(1,10,300)\n",
        "\n",
        "print(model.predict(array))\n",
        "print(Y_test[7])\n",
        "'''\n",
        "cm, acc, report = test_model(model , X_test , Y_test,list(rev_dictFun))\n",
        "print (\"accuracy:\",acc)\n",
        "print (report)\n",
        "print (cm)"
      ],
      "execution_count": 65,
      "outputs": [
        {
          "output_type": "stream",
          "text": [
            "2174/2174 [==============================] - 0s 78us/step\n",
            "test loss=  0.15390707245362167 test accuracy=  0.9690117641337552\n",
            "[0. 0. 0. 0. 0. 0. 0. 0. 0. 0. 0. 0. 0. 0. 0. 0. 0. 0. 0. 0. 0. 0. 0. 0.\n",
            " 0. 0. 0. 0. 0. 0. 0. 0. 0. 0. 0. 0. 0. 0.]\n",
            "0\n",
            "None\n"
          ],
          "name": "stdout"
        },
        {
          "output_type": "error",
          "ename": "TypeError",
          "evalue": "ignored",
          "traceback": [
            "\u001b[0;31m---------------------------------------------------------------------------\u001b[0m",
            "\u001b[0;31mTypeError\u001b[0m                                 Traceback (most recent call last)",
            "\u001b[0;32m<ipython-input-65-528b6ccf08fd>\u001b[0m in \u001b[0;36m<module>\u001b[0;34m()\u001b[0m\n\u001b[1;32m      9\u001b[0m \u001b[0mprint\u001b[0m\u001b[0;34m(\u001b[0m\u001b[0mY_test\u001b[0m\u001b[0;34m[\u001b[0m\u001b[0;36m7\u001b[0m\u001b[0;34m]\u001b[0m\u001b[0;34m)\u001b[0m\u001b[0;34m\u001b[0m\u001b[0;34m\u001b[0m\u001b[0m\n\u001b[1;32m     10\u001b[0m '''\n\u001b[0;32m---> 11\u001b[0;31m \u001b[0mcm\u001b[0m\u001b[0;34m,\u001b[0m \u001b[0macc\u001b[0m\u001b[0;34m,\u001b[0m \u001b[0mreport\u001b[0m \u001b[0;34m=\u001b[0m \u001b[0mtest_model\u001b[0m\u001b[0;34m(\u001b[0m\u001b[0mmodel\u001b[0m \u001b[0;34m,\u001b[0m \u001b[0mX_test\u001b[0m \u001b[0;34m,\u001b[0m \u001b[0mY_test\u001b[0m\u001b[0;34m,\u001b[0m\u001b[0mlist\u001b[0m\u001b[0;34m(\u001b[0m\u001b[0mrev_dictFun\u001b[0m\u001b[0;34m)\u001b[0m\u001b[0;34m)\u001b[0m\u001b[0;34m\u001b[0m\u001b[0;34m\u001b[0m\u001b[0m\n\u001b[0m\u001b[1;32m     12\u001b[0m \u001b[0mprint\u001b[0m \u001b[0;34m(\u001b[0m\u001b[0;34m\"accuracy:\"\u001b[0m\u001b[0;34m,\u001b[0m\u001b[0macc\u001b[0m\u001b[0;34m)\u001b[0m\u001b[0;34m\u001b[0m\u001b[0;34m\u001b[0m\u001b[0m\n\u001b[1;32m     13\u001b[0m \u001b[0mprint\u001b[0m \u001b[0;34m(\u001b[0m\u001b[0mreport\u001b[0m\u001b[0;34m)\u001b[0m\u001b[0;34m\u001b[0m\u001b[0;34m\u001b[0m\u001b[0m\n",
            "\u001b[0;32m<ipython-input-64-91443f8879d0>\u001b[0m in \u001b[0;36mtest_model\u001b[0;34m(model, X_test, y_test, labels)\u001b[0m\n\u001b[1;32m     85\u001b[0m   \u001b[0mscores\u001b[0m \u001b[0;34m=\u001b[0m \u001b[0mmodel\u001b[0m\u001b[0;34m.\u001b[0m\u001b[0mevaluate\u001b[0m\u001b[0;34m(\u001b[0m\u001b[0mX_test\u001b[0m\u001b[0;34m,\u001b[0m\u001b[0my_test\u001b[0m\u001b[0;34m)\u001b[0m\u001b[0;34m\u001b[0m\u001b[0;34m\u001b[0m\u001b[0m\n\u001b[1;32m     86\u001b[0m   \u001b[0mprint\u001b[0m \u001b[0;34m(\u001b[0m\u001b[0;34m\"test loss= \"\u001b[0m\u001b[0;34m,\u001b[0m\u001b[0mscores\u001b[0m\u001b[0;34m[\u001b[0m\u001b[0;36m0\u001b[0m\u001b[0;34m]\u001b[0m\u001b[0;34m,\u001b[0m\u001b[0;34m\"test accuracy= \"\u001b[0m\u001b[0;34m,\u001b[0m\u001b[0mscores\u001b[0m\u001b[0;34m[\u001b[0m\u001b[0;36m1\u001b[0m\u001b[0;34m]\u001b[0m\u001b[0;34m)\u001b[0m\u001b[0;34m\u001b[0m\u001b[0;34m\u001b[0m\u001b[0m\n\u001b[0;32m---> 87\u001b[0;31m   \u001b[0macc\u001b[0m \u001b[0;34m=\u001b[0m \u001b[0maccuracy_score\u001b[0m\u001b[0;34m(\u001b[0m\u001b[0mbulk_max_indexes\u001b[0m\u001b[0;34m(\u001b[0m\u001b[0my_test\u001b[0m\u001b[0;34m,\u001b[0m\u001b[0;36m1\u001b[0m\u001b[0;34m)\u001b[0m\u001b[0;34m,\u001b[0m \u001b[0mbulk_max_indexes\u001b[0m\u001b[0;34m(\u001b[0m\u001b[0mpredicted_y\u001b[0m\u001b[0;34m)\u001b[0m\u001b[0;34m)\u001b[0m\u001b[0;34m\u001b[0m\u001b[0;34m\u001b[0m\u001b[0m\n\u001b[0m\u001b[1;32m     88\u001b[0m   \u001b[0mreport\u001b[0m \u001b[0;34m=\u001b[0m \u001b[0mclassification_report\u001b[0m\u001b[0;34m(\u001b[0m\u001b[0mbulk_max_indexes\u001b[0m\u001b[0;34m(\u001b[0m\u001b[0my_test\u001b[0m\u001b[0;34m,\u001b[0m\u001b[0;36m1\u001b[0m\u001b[0;34m)\u001b[0m\u001b[0;34m,\u001b[0m \u001b[0mbulk_max_indexes\u001b[0m\u001b[0;34m(\u001b[0m\u001b[0mpredicted_y\u001b[0m\u001b[0;34m)\u001b[0m \u001b[0;34m,\u001b[0m\u001b[0mlabels\u001b[0m\u001b[0;34m)\u001b[0m\u001b[0;34m\u001b[0m\u001b[0;34m\u001b[0m\u001b[0m\n\u001b[1;32m     89\u001b[0m   \u001b[0mcm\u001b[0m \u001b[0;34m=\u001b[0m \u001b[0mconfusion_matrix\u001b[0m\u001b[0;34m(\u001b[0m\u001b[0mbulk_max_indexes\u001b[0m\u001b[0;34m(\u001b[0m\u001b[0my_test\u001b[0m\u001b[0;34m,\u001b[0m\u001b[0;36m1\u001b[0m\u001b[0;34m)\u001b[0m\u001b[0;34m,\u001b[0m \u001b[0mbulk_max_indexes\u001b[0m\u001b[0;34m(\u001b[0m\u001b[0mpredicted_y\u001b[0m\u001b[0;34m)\u001b[0m\u001b[0;34m,\u001b[0m\u001b[0mlabels\u001b[0m\u001b[0;34m)\u001b[0m\u001b[0;34m\u001b[0m\u001b[0;34m\u001b[0m\u001b[0m\n",
            "\u001b[0;32m<ipython-input-64-91443f8879d0>\u001b[0m in \u001b[0;36mbulk_max_indexes\u001b[0;34m(results, threshold)\u001b[0m\n\u001b[1;32m     74\u001b[0m     \u001b[0mtemp\u001b[0m \u001b[0;34m=\u001b[0m \u001b[0;34m[\u001b[0m\u001b[0;34m]\u001b[0m\u001b[0;34m\u001b[0m\u001b[0;34m\u001b[0m\u001b[0m\n\u001b[1;32m     75\u001b[0m     \u001b[0;32mfor\u001b[0m \u001b[0mi\u001b[0m \u001b[0;32min\u001b[0m \u001b[0mrange\u001b[0m\u001b[0;34m(\u001b[0m\u001b[0;36m38\u001b[0m\u001b[0;34m)\u001b[0m\u001b[0;34m:\u001b[0m\u001b[0;34m\u001b[0m\u001b[0;34m\u001b[0m\u001b[0m\n\u001b[0;32m---> 76\u001b[0;31m       \u001b[0;32mif\u001b[0m \u001b[0mi\u001b[0m \u001b[0;32min\u001b[0m \u001b[0mindexes\u001b[0m \u001b[0;34m:\u001b[0m\u001b[0;34m\u001b[0m\u001b[0;34m\u001b[0m\u001b[0m\n\u001b[0m\u001b[1;32m     77\u001b[0m         \u001b[0mtemp\u001b[0m\u001b[0;34m[\u001b[0m\u001b[0mi\u001b[0m\u001b[0;34m]\u001b[0m \u001b[0;34m=\u001b[0m \u001b[0;36m1\u001b[0m\u001b[0;34m\u001b[0m\u001b[0;34m\u001b[0m\u001b[0m\n\u001b[1;32m     78\u001b[0m       \u001b[0;32melse\u001b[0m \u001b[0;34m:\u001b[0m\u001b[0;34m\u001b[0m\u001b[0;34m\u001b[0m\u001b[0m\n",
            "\u001b[0;31mTypeError\u001b[0m: argument of type 'NoneType' is not iterable"
          ]
        }
      ]
    },
    {
      "cell_type": "markdown",
      "metadata": {
        "id": "3shpY-_6Rm7M",
        "colab_type": "text"
      },
      "source": [
        "# Uploading to google drive\n"
      ]
    },
    {
      "cell_type": "code",
      "metadata": {
        "id": "Ep72MIEgRmJL",
        "colab_type": "code",
        "colab": {}
      },
      "source": [
        "#Download all files in gdrive folder\n",
        "!pip install -U -q PyDrive\n",
        "import os\n",
        "from pydrive.auth import GoogleAuth\n",
        "from pydrive.drive import GoogleDrive\n",
        "from google.colab import auth\n",
        "from oauth2client.client import GoogleCredentials\n",
        "\n",
        "\n",
        "#model.save(\".h5\")\n",
        "# 1. Authenticate and create the PyDrive client.\n",
        "auth.authenticate_user()\n",
        "gauth = GoogleAuth()\n",
        "gauth.credentials = GoogleCredentials.get_application_default()\n",
        "drive = GoogleDrive(gauth)\n",
        "'''\n",
        "fid = '1naB_1sDhfr0YzClRoaYQLQWu5xFo1H-s'\n",
        "f = drive.CreateFile({\"parents\": [{\"kind\": \"drive#fileLink\", \"id\": fid}]})\n",
        "f.SetContentFile('X.npy')\n",
        "f.Upload()\n",
        "#-----\n",
        "fid = '1naB_1sDhfr0YzClRoaYQLQWu5xFo1H-s'\n",
        "f = drive.CreateFile({\"parents\": [{\"kind\": \"drive#fileLink\", \"id\": fid}]})\n",
        "f.SetContentFile('Y.npy')\n",
        "f.Upload()\n",
        "\n",
        "\n",
        "#-----\n",
        "fid = '1naB_1sDhfr0YzClRoaYQLQWu5xFo1H-s'\n",
        "f = drive.CreateFile({\"parents\": [{\"kind\": \"drive#fileLink\", \"id\": fid}]})\n",
        "f.SetContentFile('rev_jobFun_dict.npy')\n",
        "f.Upload()\n",
        "\n",
        "#-----\n",
        "fid = '1naB_1sDhfr0YzClRoaYQLQWu5xFo1H-s'\n",
        "f = drive.CreateFile({\"parents\": [{\"kind\": \"drive#fileLink\", \"id\": fid}]})\n",
        "f.SetContentFile('job_functions_dict.npy')\n",
        "f.Upload()'''\n",
        "\n",
        "#-----\n",
        "fid = '1naB_1sDhfr0YzClRoaYQLQWu5xFo1H-s'\n",
        "f = drive.CreateFile({\"parents\": [{\"kind\": \"drive#fileLink\", \"id\": fid}]})\n",
        "f.SetContentFile('model_2.h5')\n",
        "f.Upload()"
      ],
      "execution_count": 0,
      "outputs": []
    }
  ]
}